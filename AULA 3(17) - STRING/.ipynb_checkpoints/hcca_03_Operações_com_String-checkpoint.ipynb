{
 "cells": [
  {
   "cell_type": "markdown",
   "metadata": {
    "colab_type": "text",
    "id": "view-in-github"
   },
   "source": [
    "<a href=\"https://colab.research.google.com/github/hiramaralIA/CETAM_IA_AULAS_PYTHON/blob/main/Gabarito_Opera%C3%A7%C3%B5es_com_String.ipynb\" target=\"_parent\"><img src=\"https://colab.research.google.com/assets/colab-badge.svg\" alt=\"Open In Colab\"/></a>"
   ]
  },
  {
   "cell_type": "markdown",
   "metadata": {
    "id": "J-QJGISy5rg5"
   },
   "source": [
    "# Operações com String\n",
    "\n",
    "str -> transforma número em string<br>\n",
    "in -> verifica se um texto está contido dentro do outro<br>\n",
    "operador + -> concatenar string<br>\n",
    "format e {} -> substitui valores<br>\n",
    "%s -> substitui textos<br>\n",
    "%d -> substitui números decimais<br>\n",
    "\n",
    "Vamos deixar uma cartilha para download"
   ]
  },
  {
   "cell_type": "code",
   "execution_count": 2,
   "metadata": {
    "id": "bI9ke7bu5rg7"
   },
   "outputs": [],
   "source": [
    "faturamento = 2000\n",
    "custo = 500\n",
    "lucro = faturamento - custo"
   ]
  },
  {
   "cell_type": "markdown",
   "metadata": {
    "id": "XLuZEaJN5rg8"
   },
   "source": [
    "Uso do str() e do concatenar com +"
   ]
  },
  {
   "cell_type": "code",
   "execution_count": 3,
   "metadata": {
    "id": "iDGziZyT5rg8",
    "outputId": "74edbaff-1bea-4206-f462-8122c3192f2e"
   },
   "outputs": [
    {
     "name": "stdout",
     "output_type": "stream",
     "text": [
      "O faturamento da loja foi de: 2000 O custo foi de 500 O lucro foi de 1500\n"
     ]
    }
   ],
   "source": [
    "print ('O faturamento da loja foi de: ' + str(faturamento) + ' O custo foi de ' + str(custo) + ' O lucro foi de ' + str(lucro))"
   ]
  },
  {
   "cell_type": "markdown",
   "metadata": {
    "id": "Oz8RLGzf5rg9"
   },
   "source": [
    "Uso do Format"
   ]
  },
  {
   "cell_type": "code",
   "execution_count": 4,
   "metadata": {
    "id": "WggBCTB35rg-",
    "outputId": "3ddc5536-db4e-4993-9f2d-b1cb4f079abf"
   },
   "outputs": [
    {
     "name": "stdout",
     "output_type": "stream",
     "text": [
      "O faturamento foi de: 2000. O custo foi de 500 e o Lucro foi de 1500. Lembrando, o faturamento foi de 2000\n"
     ]
    }
   ],
   "source": [
    "print('O faturamento foi de: {0}. O custo foi de {1} e o Lucro foi de {2}. Lembrando, o faturamento foi de {0}'.format(faturamento, custo, lucro))"
   ]
  },
  {
   "cell_type": "markdown",
   "metadata": {
    "id": "wh5N3cal5rg_"
   },
   "source": [
    "Uso do %s e %d"
   ]
  },
  {
   "cell_type": "code",
   "execution_count": 5,
   "metadata": {
    "id": "EdMipJNf5rg_",
    "outputId": "ae8efdc2-5b96-47be-ca53-e7d373d86b4a"
   },
   "outputs": [
    {
     "name": "stdout",
     "output_type": "stream",
     "text": [
      "O faturamento da loja foi de: 2000. O custo foi de 500 e o Lucro foi de 1500\n"
     ]
    }
   ],
   "source": [
    "print ('O faturamento da loja foi de: %d. O custo foi de %d e o Lucro foi de %d' % (faturamento, custo, lucro))"
   ]
  },
  {
   "cell_type": "markdown",
   "metadata": {
    "id": "oPU-Cklj5rhA"
   },
   "source": [
    "Uso do in (mais exercícios práticos nas próximas aulas)"
   ]
  },
  {
   "cell_type": "code",
   "execution_count": null,
   "metadata": {
    "id": "cjYJfxNW5rhB",
    "outputId": "20d493d4-83fa-4f7f-f859-6c43b402064b"
   },
   "outputs": [
    {
     "name": "stdout",
     "output_type": "stream",
     "text": [
      "True\n",
      "False\n"
     ]
    }
   ],
   "source": [
    "print('@' in 'lira@gmail.com')\n",
    "print('@' in 'lira.gmail.com')"
   ]
  }
 ],
 "metadata": {
  "colab": {
   "include_colab_link": true,
   "name": "Gabarito Operações com String.ipynb",
   "provenance": []
  },
  "kernelspec": {
   "display_name": "Python 3 (ipykernel)",
   "language": "python",
   "name": "python3"
  },
  "language_info": {
   "codemirror_mode": {
    "name": "ipython",
    "version": 3
   },
   "file_extension": ".py",
   "mimetype": "text/x-python",
   "name": "python",
   "nbconvert_exporter": "python",
   "pygments_lexer": "ipython3",
   "version": "3.9.7"
  }
 },
 "nbformat": 4,
 "nbformat_minor": 1
}
