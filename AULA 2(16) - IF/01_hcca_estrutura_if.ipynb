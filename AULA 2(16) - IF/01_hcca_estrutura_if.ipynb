{
 "cells": [
  {
   "cell_type": "markdown",
   "id": "8df014ea",
   "metadata": {},
   "source": [
    "A identação influencia no nosso código. SE não usarmos o nosso código dará um erro."
   ]
  },
  {
   "cell_type": "code",
   "execution_count": 2,
   "id": "3a868b1f",
   "metadata": {},
   "outputs": [
    {
     "name": "stdout",
     "output_type": "stream",
     "text": [
      " Uhuuu, Batemos a meta de vendas de Iphone, vendemos 65000 unidades.\n"
     ]
    }
   ],
   "source": [
    "meta = 5000\n",
    "qte_vendida = 65000\n",
    "\n",
    "if qte_vendida > meta:\n",
    "    print(\" Uhuuu, Batemos a meta de vendas de Iphone, vendemos {} unidades.\".format(qte_vendida))\n",
    "\n"
   ]
  },
  {
   "cell_type": "code",
   "execution_count": null,
   "id": "1699a92a",
   "metadata": {},
   "outputs": [],
   "source": [
    "meta = 5000\n",
    "qte_vendida = 65000\n"
   ]
  }
 ],
 "metadata": {
  "kernelspec": {
   "display_name": "Python 3 (ipykernel)",
   "language": "python",
   "name": "python3"
  },
  "language_info": {
   "codemirror_mode": {
    "name": "ipython",
    "version": 3
   },
   "file_extension": ".py",
   "mimetype": "text/x-python",
   "name": "python",
   "nbconvert_exporter": "python",
   "pygments_lexer": "ipython3",
   "version": "3.9.7"
  }
 },
 "nbformat": 4,
 "nbformat_minor": 5
}
